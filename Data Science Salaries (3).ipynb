{
 "cells": [
  {
   "cell_type": "code",
   "execution_count": 109,
   "id": "cc1192f0",
   "metadata": {},
   "outputs": [],
   "source": [
    "# DATA MUNGING\n",
    "import pandas as pd\n",
    "from pandas import DataFrame \n",
    "import numpy as np\n",
    "\n",
    "# VISUALIZATION\n",
    "import matplotlib.pyplot as plt\n",
    "import seaborn as sns\n",
    "\n",
    "import plotnine as p9\n",
    "from plotnine import *\n"
   ]
  },
  {
   "cell_type": "code",
   "execution_count": 110,
   "id": "98762919",
   "metadata": {},
   "outputs": [
    {
     "data": {
      "text/html": [
       "<div>\n",
       "<style scoped>\n",
       "    .dataframe tbody tr th:only-of-type {\n",
       "        vertical-align: middle;\n",
       "    }\n",
       "\n",
       "    .dataframe tbody tr th {\n",
       "        vertical-align: top;\n",
       "    }\n",
       "\n",
       "    .dataframe thead th {\n",
       "        text-align: right;\n",
       "    }\n",
       "</style>\n",
       "<table border=\"1\" class=\"dataframe\">\n",
       "  <thead>\n",
       "    <tr style=\"text-align: right;\">\n",
       "      <th></th>\n",
       "      <th>work_year</th>\n",
       "      <th>experience_level</th>\n",
       "      <th>employment_type</th>\n",
       "      <th>job_title</th>\n",
       "      <th>salary</th>\n",
       "      <th>salary_currency</th>\n",
       "      <th>salary_in_usd</th>\n",
       "      <th>employee_residence</th>\n",
       "      <th>remote_ratio</th>\n",
       "      <th>company_location</th>\n",
       "      <th>company_size</th>\n",
       "    </tr>\n",
       "  </thead>\n",
       "  <tbody>\n",
       "    <tr>\n",
       "      <th>0</th>\n",
       "      <td>2020</td>\n",
       "      <td>MI</td>\n",
       "      <td>FT</td>\n",
       "      <td>Data Scientist</td>\n",
       "      <td>70000</td>\n",
       "      <td>EUR</td>\n",
       "      <td>79833</td>\n",
       "      <td>DE</td>\n",
       "      <td>0</td>\n",
       "      <td>DE</td>\n",
       "      <td>L</td>\n",
       "    </tr>\n",
       "    <tr>\n",
       "      <th>1</th>\n",
       "      <td>2020</td>\n",
       "      <td>SE</td>\n",
       "      <td>FT</td>\n",
       "      <td>Machine Learning Scientist</td>\n",
       "      <td>260000</td>\n",
       "      <td>USD</td>\n",
       "      <td>260000</td>\n",
       "      <td>JP</td>\n",
       "      <td>0</td>\n",
       "      <td>JP</td>\n",
       "      <td>S</td>\n",
       "    </tr>\n",
       "    <tr>\n",
       "      <th>2</th>\n",
       "      <td>2020</td>\n",
       "      <td>SE</td>\n",
       "      <td>FT</td>\n",
       "      <td>Big Data Engineer</td>\n",
       "      <td>85000</td>\n",
       "      <td>GBP</td>\n",
       "      <td>109024</td>\n",
       "      <td>GB</td>\n",
       "      <td>50</td>\n",
       "      <td>GB</td>\n",
       "      <td>M</td>\n",
       "    </tr>\n",
       "    <tr>\n",
       "      <th>3</th>\n",
       "      <td>2020</td>\n",
       "      <td>MI</td>\n",
       "      <td>FT</td>\n",
       "      <td>Product Data Analyst</td>\n",
       "      <td>20000</td>\n",
       "      <td>USD</td>\n",
       "      <td>20000</td>\n",
       "      <td>HN</td>\n",
       "      <td>0</td>\n",
       "      <td>HN</td>\n",
       "      <td>S</td>\n",
       "    </tr>\n",
       "    <tr>\n",
       "      <th>4</th>\n",
       "      <td>2020</td>\n",
       "      <td>SE</td>\n",
       "      <td>FT</td>\n",
       "      <td>Machine Learning Engineer</td>\n",
       "      <td>150000</td>\n",
       "      <td>USD</td>\n",
       "      <td>150000</td>\n",
       "      <td>US</td>\n",
       "      <td>50</td>\n",
       "      <td>US</td>\n",
       "      <td>L</td>\n",
       "    </tr>\n",
       "  </tbody>\n",
       "</table>\n",
       "</div>"
      ],
      "text/plain": [
       "   work_year experience_level employment_type                   job_title  \\\n",
       "0       2020               MI              FT              Data Scientist   \n",
       "1       2020               SE              FT  Machine Learning Scientist   \n",
       "2       2020               SE              FT           Big Data Engineer   \n",
       "3       2020               MI              FT        Product Data Analyst   \n",
       "4       2020               SE              FT   Machine Learning Engineer   \n",
       "\n",
       "   salary salary_currency  salary_in_usd employee_residence  remote_ratio  \\\n",
       "0   70000             EUR          79833                 DE             0   \n",
       "1  260000             USD         260000                 JP             0   \n",
       "2   85000             GBP         109024                 GB            50   \n",
       "3   20000             USD          20000                 HN             0   \n",
       "4  150000             USD         150000                 US            50   \n",
       "\n",
       "  company_location company_size  \n",
       "0               DE            L  \n",
       "1               JP            S  \n",
       "2               GB            M  \n",
       "3               HN            S  \n",
       "4               US            L  "
      ]
     },
     "execution_count": 110,
     "metadata": {},
     "output_type": "execute_result"
    }
   ],
   "source": [
    "# Loading the data\n",
    "ds_salaries = pd.read_csv('Downloads/ds_salaries.csv', index_col = [0])\n",
    "ds_salaries.head()\n"
   ]
  },
  {
   "cell_type": "code",
   "execution_count": 111,
   "id": "14685c16",
   "metadata": {},
   "outputs": [
    {
     "data": {
      "text/plain": [
       "work_year              int64\n",
       "experience_level      object\n",
       "employment_type       object\n",
       "job_title             object\n",
       "salary                 int64\n",
       "salary_currency       object\n",
       "salary_in_usd          int64\n",
       "employee_residence    object\n",
       "remote_ratio           int64\n",
       "company_location      object\n",
       "company_size          object\n",
       "dtype: object"
      ]
     },
     "execution_count": 111,
     "metadata": {},
     "output_type": "execute_result"
    }
   ],
   "source": [
    "# COLUMN DATA TYPES\n",
    "ds_salaries.dtypes"
   ]
  },
  {
   "cell_type": "code",
   "execution_count": 112,
   "id": "cc99d1ea",
   "metadata": {},
   "outputs": [
    {
     "data": {
      "text/plain": [
       "work_year             0.0%\n",
       "experience_level      0.0%\n",
       "employment_type       0.0%\n",
       "job_title             0.0%\n",
       "salary                0.0%\n",
       "salary_currency       0.0%\n",
       "salary_in_usd         0.0%\n",
       "employee_residence    0.0%\n",
       "remote_ratio          0.0%\n",
       "company_location      0.0%\n",
       "company_size          0.0%\n",
       "dtype: object"
      ]
     },
     "execution_count": 112,
     "metadata": {},
     "output_type": "execute_result"
    }
   ],
   "source": [
    "# CHECK FOR PERCENT OF MISSING DATA\n",
    "round((ds_salaries.isnull().mean()*100),2).astype(str)+'%'"
   ]
  },
  {
   "cell_type": "code",
   "execution_count": 113,
   "id": "6614b795",
   "metadata": {},
   "outputs": [],
   "source": [
    "# Changing Data Types\n",
    "ds_salaries = ds_salaries.astype({'work_year': str, 'experience_level': str, 'employment_type': str, 'job_title': str, 'salary': int, 'salary_currency': str, 'salary_in_usd': int, 'employee_residence': str, 'remote_ratio': int, 'company_location': str, 'company_size': str})"
   ]
  },
  {
   "cell_type": "code",
   "execution_count": 114,
   "id": "f89e72f0",
   "metadata": {},
   "outputs": [
    {
     "data": {
      "text/html": [
       "<div>\n",
       "<style scoped>\n",
       "    .dataframe tbody tr th:only-of-type {\n",
       "        vertical-align: middle;\n",
       "    }\n",
       "\n",
       "    .dataframe tbody tr th {\n",
       "        vertical-align: top;\n",
       "    }\n",
       "\n",
       "    .dataframe thead th {\n",
       "        text-align: right;\n",
       "    }\n",
       "</style>\n",
       "<table border=\"1\" class=\"dataframe\">\n",
       "  <thead>\n",
       "    <tr style=\"text-align: right;\">\n",
       "      <th></th>\n",
       "      <th>work_year</th>\n",
       "      <th>experience_level</th>\n",
       "      <th>employment_type</th>\n",
       "      <th>job_title</th>\n",
       "      <th>salary</th>\n",
       "      <th>salary_currency</th>\n",
       "      <th>salary_in_usd</th>\n",
       "      <th>employee_residence</th>\n",
       "      <th>remote_ratio</th>\n",
       "      <th>company_location</th>\n",
       "      <th>company_size</th>\n",
       "    </tr>\n",
       "  </thead>\n",
       "  <tbody>\n",
       "    <tr>\n",
       "      <th>0</th>\n",
       "      <td>2020</td>\n",
       "      <td>MI</td>\n",
       "      <td>FT</td>\n",
       "      <td>Data Scientist</td>\n",
       "      <td>70000</td>\n",
       "      <td>EUR</td>\n",
       "      <td>79833</td>\n",
       "      <td>DE</td>\n",
       "      <td>0</td>\n",
       "      <td>DE</td>\n",
       "      <td>L</td>\n",
       "    </tr>\n",
       "    <tr>\n",
       "      <th>1</th>\n",
       "      <td>2020</td>\n",
       "      <td>SE</td>\n",
       "      <td>FT</td>\n",
       "      <td>Machine Learning Scientist</td>\n",
       "      <td>260000</td>\n",
       "      <td>USD</td>\n",
       "      <td>260000</td>\n",
       "      <td>JP</td>\n",
       "      <td>0</td>\n",
       "      <td>JP</td>\n",
       "      <td>S</td>\n",
       "    </tr>\n",
       "    <tr>\n",
       "      <th>2</th>\n",
       "      <td>2020</td>\n",
       "      <td>SE</td>\n",
       "      <td>FT</td>\n",
       "      <td>Big Data Engineer</td>\n",
       "      <td>85000</td>\n",
       "      <td>GBP</td>\n",
       "      <td>109024</td>\n",
       "      <td>GB</td>\n",
       "      <td>50</td>\n",
       "      <td>GB</td>\n",
       "      <td>M</td>\n",
       "    </tr>\n",
       "    <tr>\n",
       "      <th>3</th>\n",
       "      <td>2020</td>\n",
       "      <td>MI</td>\n",
       "      <td>FT</td>\n",
       "      <td>Product Data Analyst</td>\n",
       "      <td>20000</td>\n",
       "      <td>USD</td>\n",
       "      <td>20000</td>\n",
       "      <td>HN</td>\n",
       "      <td>0</td>\n",
       "      <td>HN</td>\n",
       "      <td>S</td>\n",
       "    </tr>\n",
       "    <tr>\n",
       "      <th>4</th>\n",
       "      <td>2020</td>\n",
       "      <td>SE</td>\n",
       "      <td>FT</td>\n",
       "      <td>Machine Learning Engineer</td>\n",
       "      <td>150000</td>\n",
       "      <td>USD</td>\n",
       "      <td>150000</td>\n",
       "      <td>US</td>\n",
       "      <td>50</td>\n",
       "      <td>US</td>\n",
       "      <td>L</td>\n",
       "    </tr>\n",
       "    <tr>\n",
       "      <th>...</th>\n",
       "      <td>...</td>\n",
       "      <td>...</td>\n",
       "      <td>...</td>\n",
       "      <td>...</td>\n",
       "      <td>...</td>\n",
       "      <td>...</td>\n",
       "      <td>...</td>\n",
       "      <td>...</td>\n",
       "      <td>...</td>\n",
       "      <td>...</td>\n",
       "      <td>...</td>\n",
       "    </tr>\n",
       "    <tr>\n",
       "      <th>602</th>\n",
       "      <td>2022</td>\n",
       "      <td>SE</td>\n",
       "      <td>FT</td>\n",
       "      <td>Data Engineer</td>\n",
       "      <td>154000</td>\n",
       "      <td>USD</td>\n",
       "      <td>154000</td>\n",
       "      <td>US</td>\n",
       "      <td>100</td>\n",
       "      <td>US</td>\n",
       "      <td>M</td>\n",
       "    </tr>\n",
       "    <tr>\n",
       "      <th>603</th>\n",
       "      <td>2022</td>\n",
       "      <td>SE</td>\n",
       "      <td>FT</td>\n",
       "      <td>Data Engineer</td>\n",
       "      <td>126000</td>\n",
       "      <td>USD</td>\n",
       "      <td>126000</td>\n",
       "      <td>US</td>\n",
       "      <td>100</td>\n",
       "      <td>US</td>\n",
       "      <td>M</td>\n",
       "    </tr>\n",
       "    <tr>\n",
       "      <th>604</th>\n",
       "      <td>2022</td>\n",
       "      <td>SE</td>\n",
       "      <td>FT</td>\n",
       "      <td>Data Analyst</td>\n",
       "      <td>129000</td>\n",
       "      <td>USD</td>\n",
       "      <td>129000</td>\n",
       "      <td>US</td>\n",
       "      <td>0</td>\n",
       "      <td>US</td>\n",
       "      <td>M</td>\n",
       "    </tr>\n",
       "    <tr>\n",
       "      <th>605</th>\n",
       "      <td>2022</td>\n",
       "      <td>SE</td>\n",
       "      <td>FT</td>\n",
       "      <td>Data Analyst</td>\n",
       "      <td>150000</td>\n",
       "      <td>USD</td>\n",
       "      <td>150000</td>\n",
       "      <td>US</td>\n",
       "      <td>100</td>\n",
       "      <td>US</td>\n",
       "      <td>M</td>\n",
       "    </tr>\n",
       "    <tr>\n",
       "      <th>606</th>\n",
       "      <td>2022</td>\n",
       "      <td>MI</td>\n",
       "      <td>FT</td>\n",
       "      <td>AI Scientist</td>\n",
       "      <td>200000</td>\n",
       "      <td>USD</td>\n",
       "      <td>200000</td>\n",
       "      <td>IN</td>\n",
       "      <td>100</td>\n",
       "      <td>US</td>\n",
       "      <td>L</td>\n",
       "    </tr>\n",
       "  </tbody>\n",
       "</table>\n",
       "<p>565 rows × 11 columns</p>\n",
       "</div>"
      ],
      "text/plain": [
       "    work_year experience_level employment_type                   job_title  \\\n",
       "0        2020               MI              FT              Data Scientist   \n",
       "1        2020               SE              FT  Machine Learning Scientist   \n",
       "2        2020               SE              FT           Big Data Engineer   \n",
       "3        2020               MI              FT        Product Data Analyst   \n",
       "4        2020               SE              FT   Machine Learning Engineer   \n",
       "..        ...              ...             ...                         ...   \n",
       "602      2022               SE              FT               Data Engineer   \n",
       "603      2022               SE              FT               Data Engineer   \n",
       "604      2022               SE              FT                Data Analyst   \n",
       "605      2022               SE              FT                Data Analyst   \n",
       "606      2022               MI              FT                AI Scientist   \n",
       "\n",
       "     salary salary_currency  salary_in_usd employee_residence  remote_ratio  \\\n",
       "0     70000             EUR          79833                 DE             0   \n",
       "1    260000             USD         260000                 JP             0   \n",
       "2     85000             GBP         109024                 GB            50   \n",
       "3     20000             USD          20000                 HN             0   \n",
       "4    150000             USD         150000                 US            50   \n",
       "..      ...             ...            ...                ...           ...   \n",
       "602  154000             USD         154000                 US           100   \n",
       "603  126000             USD         126000                 US           100   \n",
       "604  129000             USD         129000                 US             0   \n",
       "605  150000             USD         150000                 US           100   \n",
       "606  200000             USD         200000                 IN           100   \n",
       "\n",
       "    company_location company_size  \n",
       "0                 DE            L  \n",
       "1                 JP            S  \n",
       "2                 GB            M  \n",
       "3                 HN            S  \n",
       "4                 US            L  \n",
       "..               ...          ...  \n",
       "602               US            M  \n",
       "603               US            M  \n",
       "604               US            M  \n",
       "605               US            M  \n",
       "606               US            L  \n",
       "\n",
       "[565 rows x 11 columns]"
      ]
     },
     "execution_count": 114,
     "metadata": {},
     "output_type": "execute_result"
    }
   ],
   "source": [
    "# DROP DUPLICATE ROWS WHILE KEEPING THE FIRST\n",
    "ds_salaries.drop_duplicates(keep= 'first')"
   ]
  },
  {
   "cell_type": "code",
   "execution_count": 115,
   "id": "f10b08f8",
   "metadata": {},
   "outputs": [
    {
     "name": "stdout",
     "output_type": "stream",
     "text": [
      "1: 3D Computer Vision Researcher\n",
      "2: AI Scientist\n",
      "3: Analytics Engineer\n",
      "4: Applied Data Scientist\n",
      "5: Applied Machine Learning Scientist\n",
      "6: BI Data Analyst\n",
      "7: Big Data Architect\n",
      "8: Big Data Engineer\n",
      "9: Business Data Analyst\n",
      "10: Cloud Data Engineer\n",
      "11: Computer Vision Engineer\n",
      "12: Computer Vision Software Engineer\n",
      "13: Data Analyst\n",
      "14: Data Analytics Engineer\n",
      "15: Data Analytics Lead\n",
      "16: Data Analytics Manager\n",
      "17: Data Architect\n",
      "18: Data Engineer\n",
      "19: Data Engineering Manager\n",
      "20: Data Science Consultant\n",
      "21: Data Science Engineer\n",
      "22: Data Science Manager\n",
      "23: Data Scientist\n",
      "24: Data Specialist\n",
      "25: Director of Data Engineering\n",
      "26: Director of Data Science\n",
      "27: ETL Developer\n",
      "28: Finance Data Analyst\n",
      "29: Financial Data Analyst\n",
      "30: Head of Data\n",
      "31: Head of Data Science\n",
      "32: Head of Machine Learning\n",
      "33: Lead Data Analyst\n",
      "34: Lead Data Engineer\n",
      "35: Lead Data Scientist\n",
      "36: Lead Machine Learning Engineer\n",
      "37: ML Engineer\n",
      "38: Machine Learning Developer\n",
      "39: Machine Learning Engineer\n",
      "40: Machine Learning Infrastructure Engineer\n",
      "41: Machine Learning Manager\n",
      "42: Machine Learning Scientist\n",
      "43: Marketing Data Analyst\n",
      "44: NLP Engineer\n",
      "45: Principal Data Analyst\n",
      "46: Principal Data Engineer\n",
      "47: Principal Data Scientist\n",
      "48: Product Data Analyst\n",
      "49: Research Scientist\n",
      "50: Staff Data Scientist\n"
     ]
    }
   ],
   "source": [
    "#UNIQUE JOBS AND SORTING\n",
    "unique_jobs = ds_salaries.job_title.unique()\n",
    "unique_jobs.sort()\n",
    "\n",
    "#COUNTING UNIQUE JOBS WITH ENUMERATE\n",
    "for i, v in enumerate(unique_jobs):\n",
    "        i += 1\n",
    "        print('{0}: {1}'.format(i,v))"
   ]
  },
  {
   "cell_type": "code",
   "execution_count": 116,
   "id": "96179dcd",
   "metadata": {},
   "outputs": [
    {
     "name": "stdout",
     "output_type": "stream",
     "text": [
      "Ratio: Count:\n",
      "100    381\n",
      "0      127\n",
      "50      99\n",
      "Name: remote_ratio, dtype: int64\n",
      "\n",
      "\n",
      "\tThe overall amount of work done remotely, possible values are as follows: \n",
      " 0 No remote work (less than 20%) 50 Partially remote 100 Fully remote (more than 80%)\n"
     ]
    }
   ],
   "source": [
    "# RATIO COUNTS \n",
    "print('Ratio: Count:')\n",
    "remote_ratio_counts = ds_salaries['remote_ratio'].value_counts()\n",
    "print(remote_ratio_counts)\n",
    "print('')\n",
    "print('')\n",
    "print(\"\tThe overall amount of work done remotely, possible values are as follows: \\n 0 No remote work (less than 20%) 50 Partially remote 100 Fully remote (more than 80%)\")"
   ]
  },
  {
   "cell_type": "code",
   "execution_count": 117,
   "id": "ff53ea3a",
   "metadata": {},
   "outputs": [
    {
     "name": "stdout",
     "output_type": "stream",
     "text": [
      "Exper: Count:\n",
      "SE    280\n",
      "MI    213\n",
      "EN     88\n",
      "EX     26\n",
      "Name: experience_level, dtype: int64\n",
      "\n",
      "\n",
      "\tThe experience level in the job during the year with the following possible values:\n",
      " EN Entry-level / Junior MI Mid-level / Intermediate SE Senior-level / Expert EX Executive-level\n"
     ]
    }
   ],
   "source": [
    "# NUMBER OF COMPANIES \n",
    "print('Exper: Count:')\n",
    "experience_level_counts = ds_salaries['experience_level'].value_counts()\n",
    "print(experience_level_counts)\n",
    "print('')\n",
    "print('')\n",
    "print(\"\tThe experience level in the job during the year with the following possible values:\\n EN Entry-level / Junior MI Mid-level / Intermediate SE Senior-level / Expert EX Executive-level\")"
   ]
  },
  {
   "cell_type": "code",
   "execution_count": 118,
   "id": "f07ca680",
   "metadata": {},
   "outputs": [
    {
     "name": "stdout",
     "output_type": "stream",
     "text": [
      "work_year\n",
      "2020     95813.00\n",
      "2021     99853.79\n",
      "2022    124522.01\n",
      "Name: salary_in_usd, dtype: float64\n"
     ]
    }
   ],
   "source": [
    "# AVERAGE SALARIES BY YEAR \n",
    "avgyearly_salaries = round(ds_salaries.groupby('work_year').salary_in_usd.mean(),2)\n",
    "print(avgyearly_salaries)"
   ]
  },
  {
   "cell_type": "code",
   "execution_count": 119,
   "id": "9b14260c",
   "metadata": {
    "scrolled": true
   },
   "outputs": [
    {
     "data": {
      "image/png": "[encoded data removed]",
      "text/plain": [
       "<Figure size 1050x700 with 1 Axes>"
      ]
     },
     "metadata": {},
     "output_type": "display_data"
    },
    {
     "name": "stdout",
     "output_type": "stream",
     "text": [
      "\n"
     ]
    }
   ],
   "source": [
    "# BOX CHART FOR SALARY(USD) IN YEARS\n",
    "p101 = (\n",
    "    ggplot(ds_salaries, aes(\"work_year\",\"salary_in_usd\" ))\n",
    "    + geom_boxplot(\n",
    "        colour=\"#1F3552\",\n",
    "        fill=\"#4271AE\",\n",
    "        alpha=0.7,\n",
    "        outlier_shape=\".\",\n",
    "        outlier_colour=\"steelblue\",\n",
    "    )\n",
    "    + xlab(\"Work Year\")\n",
    "    + ylab(\"Salary in USD\")\n",
    "    + scale_y_continuous(breaks=np.arange(0, 600001, 50000),\n",
    "                        limits=[0,600000])\n",
    "    + ggtitle(\"Salary by Year\")\n",
    ")\n",
    "print(p101)"
   ]
  },
  {
   "cell_type": "code",
   "execution_count": 126,
   "id": "566b6a1d",
   "metadata": {
    "scrolled": true
   },
   "outputs": [
    {
     "data": {
      "image/png": "[encoded data removed]",
      "text/plain": [
       "<Figure size 1050x700 with 1 Axes>"
      ]
     },
     "metadata": {},
     "output_type": "display_data"
    },
    {
     "name": "stdout",
     "output_type": "stream",
     "text": [
      "\n",
      "\tThe experience level in the job during the year with the following possible values:\n",
      " EN Entry-level / Junior MI Mid-level / Intermediate SE Senior-level / Expert EX Executive-level\n"
     ]
    }
   ],
   "source": [
    "# BOX CHART FOR SALARY(USD) BY EXPERIENCE LEVEL\n",
    "\n",
    "p111 = (\n",
    "    ggplot(ds_salaries, aes(\"experience_level\",\"salary_in_usd\" ))\n",
    "    + geom_boxplot(\n",
    "        colour=\"#1F3552\",\n",
    "        fill=\"#4271AE\",\n",
    "        alpha=0.7,\n",
    "        outlier_shape=\".\",\n",
    "        outlier_colour=\"steelblue\",\n",
    "    )\n",
    "    + xlab(\"Experience Level\")\n",
    "    + ylab(\"Salary in USD\")\n",
    "    + scale_y_continuous(breaks=np.arange(0, 600001, 50000),\n",
    "                        limits=[0,600000])\n",
    "    + ggtitle(\"Salary by Experience Level\")\n",
    ")\n",
    "print(p111)\n",
    "\n",
    "print(\"\tThe experience level in the job during the year with the following possible values:\\n EN Entry-level / Junior MI Mid-level / Intermediate SE Senior-level / Expert EX Executive-level\")"
   ]
  },
  {
   "cell_type": "code",
   "execution_count": 124,
   "id": "4d7eb6ee",
   "metadata": {
    "scrolled": true
   },
   "outputs": [
    {
     "data": {
      "image/png": "[encoded data removed]",
      "text/plain": [
       "<Figure size 1050x700 with 1 Axes>"
      ]
     },
     "metadata": {},
     "output_type": "display_data"
    },
    {
     "data": {
      "text/plain": [
       "<ggplot: (121076126260)>"
      ]
     },
     "execution_count": 124,
     "metadata": {},
     "output_type": "execute_result"
    }
   ],
   "source": [
    "# EXPERIENCE LEVEL COUNTS\n",
    "p9.options.figure_size = (10.5, 7)\n",
    "(ggplot(ds_salaries) \n",
    "    + geom_bar(aes(x='experience_level', fill = 'experience_level'), show_legend= False)\n",
    "    + xlab(\"Experience Level\")\n",
    "    + ylab(\"Count\")\n",
    "    + ggtitle('Experience Level Count')\n",
    "    + scale_fill_brewer(type='qual', palette= 3))"
   ]
  },
  {
   "cell_type": "code",
   "execution_count": 125,
   "id": "de315d47",
   "metadata": {},
   "outputs": [
    {
     "data": {
      "image/png": "[encoded data removed]",
      "text/plain": [
       "<Figure size 1050x700 with 1 Axes>"
      ]
     },
     "metadata": {},
     "output_type": "display_data"
    },
    {
     "name": "stdout",
     "output_type": "stream",
     "text": [
      "\n",
      "The salary in USD (FX rate divided by avg. USD rate for the respective year via fxdata.foorilla.com).\n"
     ]
    }
   ],
   "source": [
    "# Salaries by Remote Ratio\n",
    "ds_salaries = ds_salaries.astype({'remote_ratio': str}) # First change to int for better seperation\n",
    "\n",
    "p112 = (\n",
    "    ggplot(ds_salaries, aes(\"remote_ratio\",\"salary_in_usd\" ))\n",
    "    + geom_boxplot(\n",
    "        colour=\"#1F3552\",\n",
    "        fill=\"#4271AE\",\n",
    "        alpha=0.7,\n",
    "        outlier_shape=\".\",\n",
    "        outlier_colour=\"steelblue\",\n",
    "    )\n",
    "    + xlab(\"Remote Ratio\")\n",
    "    + ylab(\"Salary in USD\")\n",
    "    + scale_y_continuous(breaks=np.arange(0, 600001, 50000),\n",
    "                        limits=[0,600000])\n",
    "    + ggtitle(\"Salary by Remote Ratio\")\n",
    ")\n",
    "print(p112)\n",
    "\n",
    "print(\"The salary in USD (FX rate divided by avg. USD rate for the respective year via fxdata.foorilla.com).\")"
   ]
  },
  {
   "cell_type": "code",
   "execution_count": null,
   "id": "0b92cb6d",
   "metadata": {},
   "outputs": [],
   "source": []
  },
  {
   "cell_type": "code",
   "execution_count": null,
   "id": "9541dc15",
   "metadata": {},
   "outputs": [],
   "source": []
  },
  {
   "cell_type": "code",
   "execution_count": null,
   "id": "779f7f0b",
   "metadata": {},
   "outputs": [],
   "source": []
  },
  {
   "cell_type": "code",
   "execution_count": null,
   "id": "43278171",
   "metadata": {},
   "outputs": [],
   "source": []
  },
  {
   "cell_type": "code",
   "execution_count": null,
   "id": "b53c5bfd",
   "metadata": {},
   "outputs": [],
   "source": []
  },
  {
   "cell_type": "code",
   "execution_count": null,
   "id": "2bfc10bd",
   "metadata": {},
   "outputs": [],
   "source": []
  },
  {
   "cell_type": "code",
   "execution_count": null,
   "id": "4a5ecd7b",
   "metadata": {},
   "outputs": [],
   "source": []
  },
  {
   "cell_type": "code",
   "execution_count": null,
   "id": "e6b10877",
   "metadata": {},
   "outputs": [],
   "source": []
  }
 ],
 "metadata": {
  "kernelspec": {
   "display_name": "Python 3 (ipykernel)",
   "language": "python",
   "name": "python3"
  },
  "language_info": {
   "codemirror_mode": {
    "name": "ipython",
    "version": 3
   },
   "file_extension": ".py",
   "mimetype": "text/x-python",
   "name": "python",
   "nbconvert_exporter": "python",
   "pygments_lexer": "ipython3",
   "version": "3.9.7"
  }
 },
 "nbformat": 4,
 "nbformat_minor": 5
}
